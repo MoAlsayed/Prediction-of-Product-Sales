{
  "nbformat": 4,
  "nbformat_minor": 0,
  "metadata": {
    "colab": {
      "provenance": [],
      "authorship_tag": "ABX9TyPa6rGTFtPCMgpnj0D6S7fj",
      "include_colab_link": true
    },
    "kernelspec": {
      "name": "python3",
      "display_name": "Python 3"
    },
    "language_info": {
      "name": "python"
    }
  },
  "cells": [
    {
      "cell_type": "markdown",
      "metadata": {
        "id": "view-in-github",
        "colab_type": "text"
      },
      "source": [
        "<a href=\"https://colab.research.google.com/github/MoAlsayed/Prediction-of-Product-Sales/blob/main/Prediction_of_Product_Sales.ipynb\" target=\"_parent\"><img src=\"https://colab.research.google.com/assets/colab-badge.svg\" alt=\"Open In Colab\"/></a>"
      ]
    },
    {
      "cell_type": "markdown",
      "source": [
        "# Project Title: (Prediction of Product Sales).\n",
        "  - Author: Mohammed Alsayed\n"
      ],
      "metadata": {
        "id": "41ytrAErUToR"
      }
    },
    {
      "cell_type": "markdown",
      "source": [
        "## Project Overview"
      ],
      "metadata": {
        "id": "5uBPLi5bU4J5"
      }
    },
    {
      "cell_type": "markdown",
      "source": [
        "## Load and Inspect Data"
      ],
      "metadata": {
        "id": "PKki2YxFVD45"
      }
    },
    {
      "cell_type": "code",
      "source": [],
      "metadata": {
        "id": "FZ8nmZUjVfLw"
      },
      "execution_count": null,
      "outputs": []
    },
    {
      "cell_type": "markdown",
      "source": [
        "## Clean Data"
      ],
      "metadata": {
        "id": "QGtrPOlNVJvO"
      }
    },
    {
      "cell_type": "code",
      "source": [],
      "metadata": {
        "id": "6C2b4Jh3Vf6Y"
      },
      "execution_count": null,
      "outputs": []
    },
    {
      "cell_type": "markdown",
      "source": [
        "## Exploratory Dana Analysis"
      ],
      "metadata": {
        "id": "5_IdruEaVOQo"
      }
    },
    {
      "cell_type": "code",
      "source": [],
      "metadata": {
        "id": "prOtIWqSVhWU"
      },
      "execution_count": null,
      "outputs": []
    },
    {
      "cell_type": "markdown",
      "source": [
        "## Fwature Inspection"
      ],
      "metadata": {
        "id": "ql6VnBKnVUun"
      }
    },
    {
      "cell_type": "code",
      "source": [],
      "metadata": {
        "id": "Vz3IV9riVh_D"
      },
      "execution_count": null,
      "outputs": []
    }
  ]
}